{
 "cells": [
  {
   "cell_type": "code",
   "execution_count": 10,
   "metadata": {},
   "outputs": [
    {
     "name": "stdout",
     "output_type": "stream",
     "text": [
      "image not found\n",
      "image not found\n",
      "image not found\n",
      "Images filtered and copied successfully!\n"
     ]
    }
   ],
   "source": [
    "import os\n",
    "import shutil\n",
    "import pandas as pd\n",
    "\n",
    "# Define the source and destination folders\n",
    "src_folder = './dataset/images/'\n",
    "dest_folder = 'selected/'\n",
    "\n",
    "# Read the CSV file\n",
    "df = pd.read_csv('./dataset/styles.csv', usecols=['id', 'articleType'])\n",
    "\n",
    "# Filter the rows that match the 10 article types\n",
    "selected_classes = ['Tshirts', 'Shirts', 'Shorts', 'Tops', 'Watches', 'Sunglasses', 'Kurtas', 'Casual Shoes', 'Heels', 'Sports Shoes']\n",
    "filtered_df = df[df['articleType'].isin(selected_classes)]\n",
    "filtered_df.to_csv('selected_styles.csv', index=False)\n",
    "# Iterate over the filtered DataFrame and copy the corresponding images to the destination folder\n",
    "for index, row in filtered_df.iterrows():\n",
    "    image_file = str(row['id']) + '.jpg'\n",
    "    src_path = os.path.join(src_folder, image_file)\n",
    "    dest_path = os.path.join(dest_folder, image_file)\n",
    "    if os.path.exists(src_path):\n",
    "        shutil.copy(src_path, dest_path)\n",
    "    else:\n",
    "      print(\"image not found\")\n",
    "\n",
    "print('Images filtered and copied successfully!')\n"
   ]
  }
 ],
 "metadata": {
  "kernelspec": {
   "display_name": "env",
   "language": "python",
   "name": "python3"
  },
  "language_info": {
   "codemirror_mode": {
    "name": "ipython",
    "version": 3
   },
   "file_extension": ".py",
   "mimetype": "text/x-python",
   "name": "python",
   "nbconvert_exporter": "python",
   "pygments_lexer": "ipython3",
   "version": "3.10.6"
  },
  "orig_nbformat": 4
 },
 "nbformat": 4,
 "nbformat_minor": 2
}
